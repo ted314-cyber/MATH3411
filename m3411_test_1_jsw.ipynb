{
 "cells": [
  {
   "cell_type": "markdown",
   "id": "4b410a7e",
   "metadata": {},
   "source": [
    "# q1"
   ]
  },
  {
   "cell_type": "code",
   "execution_count": 3,
   "id": "5fdace92",
   "metadata": {},
   "outputs": [
    {
     "name": "stdout",
     "output_type": "stream",
     "text": [
      "correct 4-th digit: 4\n"
     ]
    }
   ],
   "source": [
    "'''\n",
    "there may be an error in the fourth digit in the following ISBN: 3-965-59422-9. the value of the correct digit is...\n",
    "'''\n",
    "def calculate_isbn_check_digit(isbn):\n",
    "    total = 0\n",
    "    for i, digit in enumerate(isbn[:9], start=1):\n",
    "        total += i * int(digit)\n",
    "    return total % 11\n",
    "\n",
    "def find_correct_digit(isbn, error_index):\n",
    "    isbn = isbn.replace(\"-\", \"\")\n",
    "    given_check_digit = int(isbn[-1])\n",
    "    error_index -= 1 # Convert 1-based index to 0-base\n",
    "    \n",
    "    for replacement_digit in range(10): # Try each possible digit for the specified position\n",
    "        candidate_isbn = isbn[:error_index] + str(replacement_digit) + isbn[error_index + 1:-1] # Replace the specified digit with the current guess\n",
    "        calculated_check_digit = calculate_isbn_check_digit(candidate_isbn) # Calculate the check digit for the candidate ISBN\n",
    "        if calculated_check_digit == given_check_digit: # Check if the calculated check digit matches the given check digit\n",
    "            return replacement_digit\n",
    "    raise ValueError(\"Could not find a valid replacement digit.\")\n",
    "\n",
    "#v v v v v v v v v v v v v v v CHANGE THIS v v v v v v v v v v v v v v v v v v v v v\n",
    "isbn = \"3-965-59422-9\"\n",
    "error_index = 4  # 1-based index of incorrect digit\n",
    "\n",
    "print(f\"correct {error_index}-th digit: {find_correct_digit(isbn, error_index)}\")"
   ]
  },
  {
   "cell_type": "markdown",
   "id": "a28a28d5",
   "metadata": {},
   "source": [
    "# q3"
   ]
  },
  {
   "cell_type": "code",
   "execution_count": 36,
   "id": "4d3e39a3",
   "metadata": {},
   "outputs": [
    {
     "name": "stdout",
     "output_type": "stream",
     "text": [
      "d(C) or w(C): 2\n",
      "max num of errors DETECTed: 1\n",
      "max num of errors CORRECTed: 0\n"
     ]
    }
   ],
   "source": [
    "'''\n",
    "let C be the binary OR ternary linear code with parity check matrix H=...\n",
    "what is the minimum distance d(C) OR min weight w(C) of the code?\n",
    "OR what is the maximum number of errors that can always be corrected OR detected by C?\n",
    "'''\n",
    "import numpy as np\n",
    "from itertools import combinations, product\n",
    "\n",
    "def verify_minimum_distance_general(H, radix=3):\n",
    "    num_columns = H.shape[1]\n",
    "    \n",
    "    def check_linear_combination(columns, coeffs):\n",
    "        selected_cols = H[:, list(columns)]\n",
    "        result = np.zeros(H.shape[0], dtype=int)\n",
    "        for col, coeff in zip(selected_cols.T, coeffs):\n",
    "            result = (result + coeff * col) % radix\n",
    "        return np.all(result == 0)\n",
    "\n",
    "    for r in range(2, num_columns + 1):\n",
    "        for cols in combinations(range(num_columns), r):\n",
    "            for coeffs in product(range(radix), repeat=r):\n",
    "                if all(c == 0 for c in coeffs):  # Skip if all coefficients are 0\n",
    "                    continue\n",
    "                if check_linear_combination(cols, coeffs):\n",
    "                    return r\n",
    "                else:\n",
    "                    pass\n",
    "    return num_columns\n",
    "\n",
    "#v v v v v v v v v v v v v v v CHANGE THIS v v v v v v v v v v v v v v v v v v v v v\n",
    "H = np.array([\n",
    "    [1,0,0,1,0,1,1],\n",
    "    [0,1,1,1,1,1,0],\n",
    "    [0,0,1,0,1,0,0],\n",
    "    [0,0,0,1,0,0,0]\n",
    "])\n",
    "radix = 2\n",
    "\n",
    "min_dist = verify_minimum_distance_general(H, radix)\n",
    "print(f\"d(C) or w(C): {min_dist}\")\n",
    "print(f'max num of errors DETECTed: {min_dist - 1}')\n",
    "print(f'max num of errors CORRECTed: {(min_dist - 1) // 2}')"
   ]
  },
  {
   "cell_type": "markdown",
   "id": "9668c97d",
   "metadata": {},
   "source": [
    "# q4"
   ]
  },
  {
   "cell_type": "code",
   "execution_count": 79,
   "id": "b48a190a",
   "metadata": {},
   "outputs": [
    {
     "name": "stdout",
     "output_type": "stream",
     "text": [
      "codeword: 111110\n"
     ]
    }
   ],
   "source": [
    "import numpy as np\n",
    "\n",
    "def solve_linear_system_mod2(A, b):\n",
    "    A = A.copy() % 2\n",
    "    b = b.copy() % 2\n",
    "    nrows, ncols = A.shape\n",
    "    Ab = np.hstack((A, b.reshape(-1,1))) % 2  # Augmented matrix\n",
    "    rank = 0\n",
    "\n",
    "    for col in range(ncols):\n",
    "        pivot_row = None # Find a pivot in current column\n",
    "        for row in range(rank, nrows):\n",
    "            if Ab[row, col] == 1:\n",
    "                pivot_row = row\n",
    "                break\n",
    "        if pivot_row is None:\n",
    "            continue  # No pivot in this column\n",
    "        if pivot_row != rank:  # Swap rows if necessary\n",
    "            Ab[[rank, pivot_row]] = Ab[[pivot_row, rank]]\n",
    "        for row in range(nrows):  # Eliminate other rows\n",
    "            if row != rank and Ab[row, col] == 1:\n",
    "                Ab[row] = (Ab[row] + Ab[rank]) % 2\n",
    "        rank += 1\n",
    "\n",
    "    for row in range(rank, nrows):  # Check for inconsistency\n",
    "        if Ab[row, -1] == 1 and np.all(Ab[row, :-1] == 0):\n",
    "            raise ValueError(\"No solution exists for the system.\")\n",
    "\n",
    "    x = np.zeros(ncols, dtype=int) # Back substitution\n",
    "    for row in reversed(range(rank)):\n",
    "        pivot_cols = np.where(Ab[row, :-1] == 1)[0]\n",
    "        if len(pivot_cols) == 0:\n",
    "            continue\n",
    "        col = pivot_cols[0]\n",
    "        x[col] = Ab[row, -1]\n",
    "        if len(pivot_cols) > 1:\n",
    "            x[col] = (x[col] - np.dot(Ab[row, pivot_cols[1:]], x[pivot_cols[1:]])) % 2\n",
    "    return x\n",
    "\n",
    "def encode_message(H, message_positions, check_positions, m):\n",
    "    x = np.zeros(H.shape[1], dtype=int)\n",
    "    x[message_positions] = m\n",
    "\n",
    "    H_unknowns = H[:, check_positions]\n",
    "    H_knowns = H[:, message_positions]\n",
    "    x_knowns = x[message_positions]\n",
    "    rhs = (-H_knowns.dot(x_knowns)) % 2\n",
    "\n",
    "    x_unknowns = solve_linear_system_mod2(H_unknowns, rhs) # Solve for the check bits\n",
    "    x[check_positions] = x_unknowns % 2\n",
    "    return x\n",
    "\n",
    "\n",
    "#v v v v v v v v v v v v v v v CHANGE THIS v v v v v v v v v v v v v v v v v v v v v\n",
    "H = np.array([\n",
    "    [1,1,1,0,1,0],\n",
    "    [0, 0,1,1,0,0],\n",
    "    [0, 0, 0,1,1, 1]\n",
    "], dtype=int)\n",
    "info_positions = [2,5,6]  # CAREFULLY identify info bits\n",
    "check_positions = [1, 3,4] \n",
    "message = np.array([1, 1,0], dtype=int)\n",
    "\n",
    "\n",
    "message_pos_to_use = [x - 1 for x in info_positions]\n",
    "check_pos_to_use = [x - 1 for x in check_positions]\n",
    "x1 = encode_message(H, message_pos_to_use, check_pos_to_use, message)\n",
    "print(\"codeword:\", ''.join(map(str, x1)))"
   ]
  },
  {
   "cell_type": "markdown",
   "id": "052fff03",
   "metadata": {},
   "source": [
    "# q5"
   ]
  },
  {
   "cell_type": "code",
   "execution_count": 58,
   "id": "68e49d24",
   "metadata": {},
   "outputs": [
    {
     "name": "stdout",
     "output_type": "stream",
     "text": [
      "Corrected codeword: [0, 2, 2, 2, 0, 0]\n",
      "message: [0, 2, 2, 0], specified by INFO BITS POSITIONS\n"
     ]
    }
   ],
   "source": [
    "'''\n",
    "let C be ternary linear code with check matrix H =..\n",
    "suppose that the codeword x was transmitted and received as the word y =..\n",
    "assuming that there occured at most 1 error, correct y to find the codeword x\n",
    "'''\n",
    "import numpy as np\n",
    "\n",
    "def correct_error(H, y, radix):\n",
    "    y = np.array(y)  # Convert y to a numpy array for easier handling\n",
    "    S_y = (H @ y.T) % radix  # Syndrome computation\n",
    "    #print(f\"S(y) = {S_y}\")\n",
    "    if np.all(S_y == 0):\n",
    "        print(\"No error detected.\")\n",
    "        return y.tolist()\n",
    "    for i in range(H.shape[1]):\n",
    "        for scalar in range(radix): # Check if H[:,i] is equal to S_y (mod radix) or a scalar multiple of it\n",
    "            if np.array_equal((H[:, i] * scalar) % radix, S_y):\n",
    "                y_corrected = y.copy() # Step 4: Correct the error in y by subtracting the scalar multiple\n",
    "                y_corrected[i] = (y_corrected[i] - scalar) % radix\n",
    "                return y_corrected.tolist()\n",
    "    print(\"Unable to correct error.\")\n",
    "    return y.tolist()\n",
    "\n",
    "def filter_output_by_indices(output, positions_array):\n",
    "    filtered_values = [output[i-1] for i in positions_array]\n",
    "    print(f'message: {filtered_values} specified by INFO BITS positions!!')\n",
    "    \n",
    "    \n",
    "#v v v v v v v v v v v v v v v CHANGE THIS v v v v v v v v v v v v v v v v v v v v v\n",
    "H = np.array([  # Parity check matrix (rows)\n",
    "    [0,0,0,0,0,1],\n",
    "    [1, 0,0,0,0,2],\n",
    "    [0,1,1,1,0,0],\n",
    "    [0,2,1,0,1,2]\n",
    "])\n",
    "y = [0,2,1,2,0,0] \n",
    "radix = 3\n",
    "info_bits_positions = [1,2,4,6]\n",
    "\n",
    "corrected_codeword = correct_error(H, y, radix)\n",
    "print(f\"Corrected codeword: {corrected_codeword}\")\n",
    "filter_output_by_indices(corrected_codeword, info_bits_positions)"
   ]
  },
  {
   "cell_type": "markdown",
   "id": "73f1f23f",
   "metadata": {},
   "source": [
    "# q6"
   ]
  },
  {
   "cell_type": "code",
   "execution_count": 61,
   "id": "475d8ebc",
   "metadata": {},
   "outputs": [
    {
     "name": "stdout",
     "output_type": "stream",
     "text": [
      "w(C) or d(C): 1\n"
     ]
    }
   ],
   "source": [
    "'''\n",
    "let C be binary linear code with generator matrix G = ...\n",
    "what is the minimal weight w(C) OR min distance d(C)? \n",
    "'''\n",
    "import numpy as np\n",
    "from itertools import combinations\n",
    "\n",
    "def weight_of_codeword(codeword):\n",
    "    return np.count_nonzero(codeword)\n",
    "\n",
    "def generate_combinations(G, modulus):\n",
    "    num_rows = G.shape[0]\n",
    "    min_weight = float('inf')  # Initialize with a large number\n",
    "\n",
    "    for r in range(1, num_rows + 1):  # r = 1 to num_rows\n",
    "        for row_indices in combinations(range(num_rows), r):\n",
    "            codeword = np.sum(G[list(row_indices)], axis=0) % modulus # Sum the selected rows modulo the modulus\n",
    "            weight = weight_of_codeword(codeword) # Calculate the weight of the current codeword\n",
    "            min_weight = min(min_weight, weight) # Update minimum weight\n",
    "    return min_weight\n",
    "\n",
    "\n",
    "#v v v v v v v v v v v v v v v CHANGE THIS v v v v v v v v v v v v v v v v v v v v v\n",
    "G = np.array([\n",
    "    [0,1,0,1,0],  # Row 1\n",
    "    [1, 1, 1, 0,0],  # Row 2\n",
    "    [0, 0, 1, 0, 1],  # Row 3\n",
    "    [0, 1,0,0,1]   # Row 4\n",
    "])\n",
    "radix = 2\n",
    "\n",
    "print(f\"w(C) or d(C): {generate_combinations(G, radix)}\")"
   ]
  },
  {
   "cell_type": "markdown",
   "id": "915dbff4",
   "metadata": {},
   "source": [
    "# q6.2"
   ]
  },
  {
   "cell_type": "code",
   "execution_count": 71,
   "id": "ee10116c",
   "metadata": {},
   "outputs": [
    {
     "name": "stdout",
     "output_type": "stream",
     "text": [
      "Yes\n"
     ]
    }
   ],
   "source": [
    "'''\n",
    "let C be the binary linear code with parity check matrix H =...\n",
    "which of the following is a generator matrix for C?\n",
    "'''\n",
    "import numpy as np\n",
    "def is_valid_generator_matrix(H, G, modulus):\n",
    "    product = np.dot(H, G.T) % modulus # Step 1: Check if H * G^T (mod modulus) equals the zero matrix\n",
    "    if np.count_nonzero(product) != 0:  # If any non-zero entries exist, it's invalid\n",
    "        return False\n",
    "    if np.any(np.all(G == 0, axis=1)): # Check if any row in G is all zeros\n",
    "        return False\n",
    "    if np.linalg.matrix_rank(G) < G.shape[0]: # Check if rows of G are linearly independent\n",
    "        return False\n",
    "    return True # If both conditions are satisfied, the matrix G is a valid generator matrix for C\n",
    "\n",
    "\n",
    "#v v v v v v v v v v v v v v v CHANGE THIS v v v v v v v v v v v v v v v v v v v v v\n",
    "H = np.array([\n",
    "    [0, 0, 0, 0, 1],\n",
    "    [1, 1, 1, 0, 2],\n",
    "    [2, 1, 0, 1, 2]\n",
    "])\n",
    "G = np.array([ # test each G option\n",
    "    [2,1,0,1,0],\n",
    "    [0,1,2,2,0]\n",
    "])\n",
    "radix = 3\n",
    "\n",
    "print(f\"{'Yes' if is_valid_generator_matrix(H, G, radix) else 'No'}\")"
   ]
  },
  {
   "cell_type": "markdown",
   "id": "7f3de150",
   "metadata": {},
   "source": [
    "# q7"
   ]
  },
  {
   "cell_type": "code",
   "execution_count": 70,
   "id": "eb45400d",
   "metadata": {},
   "outputs": [
    {
     "name": "stdout",
     "output_type": "stream",
     "text": [
      "Codeword encoding the message: [2 2 1 2 2]\n"
     ]
    }
   ],
   "source": [
    "'''\n",
    "let C be the binary linear code with basis B= {...} with information bits in positions 1,5,6. \n",
    "state the codeword x that encodes the message m= 101\n",
    "'''\n",
    "import numpy as np\n",
    "def encode_message(m, B, info_bits_positions, radix):\n",
    "    m = np.array(m)\n",
    "    info_bits_positions = [pos - 1 for pos in info_bits_positions] # Map the 1-based positions to 0-based indices\n",
    "    for basis_vector in B: # Check if any of the basis vectors already satisfy the message at the info bit positions\n",
    "        if np.all(basis_vector[info_bits_positions] == m):\n",
    "            return basis_vector\n",
    "\n",
    "    n = len(B)\n",
    "    for i in range(1, radix**n):\n",
    "        coeffs = np.array([int(x) for x in np.base_repr(i, base=radix).zfill(n)], dtype=int)\n",
    "        codeword = np.zeros(len(B[0]), dtype=int) # Linear combination of the basis vectors\n",
    "        for j in range(n):\n",
    "            codeword = (codeword + coeffs[j] * B[j]) % radix\n",
    "        if np.all(codeword[info_bits_positions] == m): # Check if this codeword matches message at info bit positions\n",
    "            return codeword\n",
    "    return None\n",
    "\n",
    "\n",
    "#v v v v v v v v v v v v v v v CHANGE THIS v v v v v v v v v v v v v v v v v v v v v\n",
    "B = np.array([\n",
    "    [0, 1,0,0,2],\n",
    "    [2, 1, 0, 0, 1],\n",
    "    [2,2,2, 1, 1]\n",
    "])\n",
    "m = [2,2,2]\n",
    "info_bits_positions = [1, 4,5]\n",
    "radix = 3\n",
    "\n",
    "print(f\"Codeword x: {encode_message(m, B, info_bits_positions, radix)}\")"
   ]
  },
  {
   "cell_type": "markdown",
   "id": "89c87d77",
   "metadata": {},
   "source": [
    "# q7.2"
   ]
  },
  {
   "cell_type": "code",
   "execution_count": 73,
   "id": "7768551c",
   "metadata": {},
   "outputs": [
    {
     "name": "stdout",
     "output_type": "stream",
     "text": [
      "d(C): 2\n"
     ]
    }
   ],
   "source": [
    "'''\n",
    "consider the ternary linear code C with basis {...}. what is the minimum distance d(C) of C?\n",
    "'''\n",
    "import numpy as np\n",
    "from itertools import product\n",
    "\n",
    "def minimum_distance(B, radix=3):\n",
    "    num_vectors, vector_length = B.shape # Number of basis vectors and their length\n",
    "    min_weight = float('inf') # Store the minimum weight found (initialize with a large value)\n",
    "    \n",
    "    for coeffs in product(range(radix), repeat=num_vectors):\n",
    "        if all(c == 0 for c in coeffs):# Skip the all-zero combination (this corresponds to the zero codeword)\n",
    "            continue\n",
    "        codeword = np.zeros(vector_length, dtype=int) # Compute the linear combination modulo radix\n",
    "        for i, coeff in enumerate(coeffs):\n",
    "            codeword = (codeword + coeff * B[i]) % radix\n",
    "\n",
    "        weight = np.count_nonzero(codeword) # Calculate the weight of the codeword (number of non-zero entries)\n",
    "        if weight < min_weight: # Update the minimum weight if the current weight is smaller\n",
    "            min_weight = weight\n",
    "    return min_weight\n",
    "\n",
    "\n",
    "#v v v v v v v v v v v v v v v CHANGE THIS v v v v v v v v v v v v v v v v v v v v v\n",
    "B = np.array([\n",
    "    [0, 2, 1, 2, 1],\n",
    "    [1, 1, 0, 0, 0],\n",
    "    [2, 1, 1, 0, 0]\n",
    "])\n",
    "radix = 3\n",
    "\n",
    "print(f\"d(C): {minimum_distance(B, radix)}\")"
   ]
  },
  {
   "cell_type": "code",
   "execution_count": null,
   "id": "faf12fbf",
   "metadata": {},
   "outputs": [],
   "source": []
  }
 ],
 "metadata": {
  "kernelspec": {
   "display_name": "Python 3 (ipykernel)",
   "language": "python",
   "name": "python3"
  },
  "language_info": {
   "codemirror_mode": {
    "name": "ipython",
    "version": 3
   },
   "file_extension": ".py",
   "mimetype": "text/x-python",
   "name": "python",
   "nbconvert_exporter": "python",
   "pygments_lexer": "ipython3",
   "version": "3.11.4"
  }
 },
 "nbformat": 4,
 "nbformat_minor": 5
}
